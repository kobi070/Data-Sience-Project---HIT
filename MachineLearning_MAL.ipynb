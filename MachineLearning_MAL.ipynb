{
 "cells": [
  {
   "cell_type": "code",
   "execution_count": 1,
   "metadata": {
    "deletable": false,
    "editable": false,
    "nbgrader": {
     "grade": false,
     "locked": true,
     "solution": false
    }
   },
   "outputs": [],
   "source": [
    "# ------------>>>>>>>> RUN THIS CODE CELL <<<<<<<<------------\n",
    "# === CELL TYPE: IMPORTS AND SETUP \n",
    "\n",
    "import os                       # for testing use only\n",
    "\n",
    "import numpy as np\n",
    "import pandas as pd\n",
    "from sklearn.model_selection import train_test_split\n",
    "# --------cross-validation\n",
    "from sklearn.model_selection import cross_val_score\n",
    "from sklearn.model_selection import GridSearchCV\n",
    "# -------- classification\n",
    "import sklearn\n",
    "from sklearn import neighbors, tree, ensemble, naive_bayes, svm\n",
    "# *** KNN\n",
    "from sklearn.neighbors import KNeighborsClassifier\n",
    "# *** Decision Tree; Random Forest\n",
    "from sklearn import tree\n",
    "from sklearn.tree import DecisionTreeClassifier\n",
    "from sklearn.ensemble import RandomForestClassifier\n",
    "# *** Naive Bayes\n",
    "from sklearn.naive_bayes import GaussianNB\n",
    "# *** SVM classifier\n",
    "from sklearn.svm import SVC\n",
    "# --------  metrics:\n",
    "from sklearn import metrics\n",
    "from sklearn.metrics import accuracy_score, precision_score, recall_score, f1_score, confusion_matrix\n",
    "from sklearn.metrics import make_scorer"
   ]
  },
  {
   "cell_type": "code",
   "execution_count": 2,
   "metadata": {},
   "outputs": [],
   "source": [
    "import numpy as np\n",
    "import pandas as pd\n",
    "from sklearn.model_selection import train_test_split\n",
    "# --------cross-validation\n",
    "from sklearn.model_selection import cross_val_score\n",
    "from sklearn.model_selection import GridSearchCV\n",
    "# -------- classification\n",
    "import sklearn\n",
    "from sklearn import neighbors, tree, ensemble, naive_bayes, svm\n",
    "# *** KNN\n",
    "from sklearn.neighbors import KNeighborsClassifier\n",
    "# *** Decision Tree; Random Forest\n",
    "from sklearn import tree\n",
    "from sklearn.tree import DecisionTreeClassifier\n",
    "from sklearn.ensemble import RandomForestClassifier\n",
    "# *** Naive Bayes\n",
    "from sklearn.naive_bayes import GaussianNB\n",
    "# *** SVM classifier\n",
    "from sklearn.svm import SVC\n",
    "# --------  metrics:\n",
    "from sklearn import metrics\n",
    "from sklearn.metrics import accuracy_score, precision_score, recall_score, f1_score, confusion_matrix\n",
    "from sklearn.metrics import make_scorer\n",
    "import sklearn\n",
    "from sklearn import linear_model, metrics, preprocessing\n",
    "from sklearn.preprocessing import StandardScaler, MinMaxScaler\n",
    "from sklearn.linear_model import LogisticRegression, LinearRegression\n",
    "from sklearn.metrics import r2_score, f1_score\n",
    "from sklearn.ensemble import RandomForestClassifier\n",
    "from sklearn import cluster\n",
    "from sklearn import metrics, preprocessing, neighbors, cluster\n",
    "from sklearn.cluster import KMeans, AgglomerativeClustering, DBSCAN\n",
    "from scipy.cluster.hierarchy import dendrogram, linkage, fcluster\n",
    "from sklearn.neighbors import kneighbors_graph\n",
    "from sklearn.preprocessing import StandardScaler\n",
    "from sklearn.metrics import silhouette_samples, silhouette_score"
   ]
  },
  {
   "cell_type": "code",
   "execution_count": null,
   "metadata": {},
   "outputs": [],
   "source": []
  },
  {
   "cell_type": "code",
   "execution_count": 3,
   "metadata": {},
   "outputs": [],
   "source": [
    "test_ratio, rand_state = 0.25, 42"
   ]
  },
  {
   "cell_type": "code",
   "execution_count": 4,
   "metadata": {},
   "outputs": [
    {
     "data": {
      "text/html": [
       "<div>\n",
       "<style scoped>\n",
       "    .dataframe tbody tr th:only-of-type {\n",
       "        vertical-align: middle;\n",
       "    }\n",
       "\n",
       "    .dataframe tbody tr th {\n",
       "        vertical-align: top;\n",
       "    }\n",
       "\n",
       "    .dataframe thead th {\n",
       "        text-align: right;\n",
       "    }\n",
       "</style>\n",
       "<table border=\"1\" class=\"dataframe\">\n",
       "  <thead>\n",
       "    <tr style=\"text-align: right;\">\n",
       "      <th></th>\n",
       "      <th>Rank</th>\n",
       "      <th>Score</th>\n",
       "      <th>Episodes</th>\n",
       "      <th>Members_Votes</th>\n",
       "      <th>Type</th>\n",
       "      <th>Premiered</th>\n",
       "      <th>Rating</th>\n",
       "      <th>Source</th>\n",
       "      <th>Studio</th>\n",
       "      <th>Top</th>\n",
       "    </tr>\n",
       "    <tr>\n",
       "      <th>Title</th>\n",
       "      <th></th>\n",
       "      <th></th>\n",
       "      <th></th>\n",
       "      <th></th>\n",
       "      <th></th>\n",
       "      <th></th>\n",
       "      <th></th>\n",
       "      <th></th>\n",
       "      <th></th>\n",
       "      <th></th>\n",
       "    </tr>\n",
       "  </thead>\n",
       "  <tbody>\n",
       "    <tr>\n",
       "      <th>Fullmetal Alchemist: Brotherhood</th>\n",
       "      <td>1</td>\n",
       "      <td>9.15</td>\n",
       "      <td>100</td>\n",
       "      <td>2720933</td>\n",
       "      <td>2</td>\n",
       "      <td>2009</td>\n",
       "      <td>2</td>\n",
       "      <td>5</td>\n",
       "      <td>340</td>\n",
       "      <td>1</td>\n",
       "    </tr>\n",
       "    <tr>\n",
       "      <th>Gintama°</th>\n",
       "      <td>2</td>\n",
       "      <td>9.09</td>\n",
       "      <td>100</td>\n",
       "      <td>495687</td>\n",
       "      <td>2</td>\n",
       "      <td>2015</td>\n",
       "      <td>2</td>\n",
       "      <td>5</td>\n",
       "      <td>340</td>\n",
       "      <td>1</td>\n",
       "    </tr>\n",
       "    <tr>\n",
       "      <th>Shingeki no Kyojin Season 3 Part 2</th>\n",
       "      <td>3</td>\n",
       "      <td>9.09</td>\n",
       "      <td>50</td>\n",
       "      <td>1650249</td>\n",
       "      <td>2</td>\n",
       "      <td>2019</td>\n",
       "      <td>2</td>\n",
       "      <td>5</td>\n",
       "      <td>340</td>\n",
       "      <td>1</td>\n",
       "    </tr>\n",
       "    <tr>\n",
       "      <th>Steins;Gate</th>\n",
       "      <td>4</td>\n",
       "      <td>9.09</td>\n",
       "      <td>50</td>\n",
       "      <td>2122353</td>\n",
       "      <td>2</td>\n",
       "      <td>2011</td>\n",
       "      <td>2</td>\n",
       "      <td>5</td>\n",
       "      <td>340</td>\n",
       "      <td>1</td>\n",
       "    </tr>\n",
       "    <tr>\n",
       "      <th>Fruits Basket: The Final</th>\n",
       "      <td>5</td>\n",
       "      <td>9.06</td>\n",
       "      <td>50</td>\n",
       "      <td>293483</td>\n",
       "      <td>2</td>\n",
       "      <td>2021</td>\n",
       "      <td>2</td>\n",
       "      <td>5</td>\n",
       "      <td>340</td>\n",
       "      <td>1</td>\n",
       "    </tr>\n",
       "    <tr>\n",
       "      <th>...</th>\n",
       "      <td>...</td>\n",
       "      <td>...</td>\n",
       "      <td>...</td>\n",
       "      <td>...</td>\n",
       "      <td>...</td>\n",
       "      <td>...</td>\n",
       "      <td>...</td>\n",
       "      <td>...</td>\n",
       "      <td>...</td>\n",
       "      <td>...</td>\n",
       "    </tr>\n",
       "    <tr>\n",
       "      <th>UG☆Ultimate Girls</th>\n",
       "      <td>9980</td>\n",
       "      <td>5.63</td>\n",
       "      <td>50</td>\n",
       "      <td>8542</td>\n",
       "      <td>2</td>\n",
       "      <td>2005</td>\n",
       "      <td>2</td>\n",
       "      <td>5</td>\n",
       "      <td>313</td>\n",
       "      <td>0</td>\n",
       "    </tr>\n",
       "    <tr>\n",
       "      <th>Wan Wan Chuushingura</th>\n",
       "      <td>9982</td>\n",
       "      <td>5.63</td>\n",
       "      <td>1</td>\n",
       "      <td>935</td>\n",
       "      <td>0</td>\n",
       "      <td>1963</td>\n",
       "      <td>1</td>\n",
       "      <td>5</td>\n",
       "      <td>82</td>\n",
       "      <td>0</td>\n",
       "    </tr>\n",
       "    <tr>\n",
       "      <th>A Brightening Life</th>\n",
       "      <td>9983</td>\n",
       "      <td>5.63</td>\n",
       "      <td>1</td>\n",
       "      <td>309</td>\n",
       "      <td>0</td>\n",
       "      <td>2010</td>\n",
       "      <td>0</td>\n",
       "      <td>5</td>\n",
       "      <td>162</td>\n",
       "      <td>0</td>\n",
       "    </tr>\n",
       "    <tr>\n",
       "      <th>Backkom 2</th>\n",
       "      <td>9986</td>\n",
       "      <td>5.63</td>\n",
       "      <td>100</td>\n",
       "      <td>710</td>\n",
       "      <td>2</td>\n",
       "      <td>2007</td>\n",
       "      <td>0</td>\n",
       "      <td>5</td>\n",
       "      <td>67</td>\n",
       "      <td>0</td>\n",
       "    </tr>\n",
       "    <tr>\n",
       "      <th>Idol Project</th>\n",
       "      <td>9996</td>\n",
       "      <td>5.63</td>\n",
       "      <td>50</td>\n",
       "      <td>1883</td>\n",
       "      <td>1</td>\n",
       "      <td>1995</td>\n",
       "      <td>1</td>\n",
       "      <td>5</td>\n",
       "      <td>199</td>\n",
       "      <td>0</td>\n",
       "    </tr>\n",
       "  </tbody>\n",
       "</table>\n",
       "<p>6919 rows × 10 columns</p>\n",
       "</div>"
      ],
      "text/plain": [
       "                                    Rank  Score  Episodes  Members_Votes  \\\n",
       "Title                                                                      \n",
       "Fullmetal Alchemist: Brotherhood       1   9.15       100        2720933   \n",
       "Gintama°                               2   9.09       100         495687   \n",
       "Shingeki no Kyojin Season 3 Part 2     3   9.09        50        1650249   \n",
       "Steins;Gate                            4   9.09        50        2122353   \n",
       "Fruits Basket: The Final               5   9.06        50         293483   \n",
       "...                                  ...    ...       ...            ...   \n",
       "UG☆Ultimate Girls                   9980   5.63        50           8542   \n",
       "Wan Wan Chuushingura                9982   5.63         1            935   \n",
       "A Brightening Life                  9983   5.63         1            309   \n",
       "Backkom 2                           9986   5.63       100            710   \n",
       "Idol Project                        9996   5.63        50           1883   \n",
       "\n",
       "                                    Type  Premiered  Rating  Source  Studio  \\\n",
       "Title                                                                         \n",
       "Fullmetal Alchemist: Brotherhood       2       2009       2       5     340   \n",
       "Gintama°                               2       2015       2       5     340   \n",
       "Shingeki no Kyojin Season 3 Part 2     2       2019       2       5     340   \n",
       "Steins;Gate                            2       2011       2       5     340   \n",
       "Fruits Basket: The Final               2       2021       2       5     340   \n",
       "...                                  ...        ...     ...     ...     ...   \n",
       "UG☆Ultimate Girls                      2       2005       2       5     313   \n",
       "Wan Wan Chuushingura                   0       1963       1       5      82   \n",
       "A Brightening Life                     0       2010       0       5     162   \n",
       "Backkom 2                              2       2007       0       5      67   \n",
       "Idol Project                           1       1995       1       5     199   \n",
       "\n",
       "                                    Top  \n",
       "Title                                    \n",
       "Fullmetal Alchemist: Brotherhood      1  \n",
       "Gintama°                              1  \n",
       "Shingeki no Kyojin Season 3 Part 2    1  \n",
       "Steins;Gate                           1  \n",
       "Fruits Basket: The Final              1  \n",
       "...                                 ...  \n",
       "UG☆Ultimate Girls                     0  \n",
       "Wan Wan Chuushingura                  0  \n",
       "A Brightening Life                    0  \n",
       "Backkom 2                             0  \n",
       "Idol Project                          0  \n",
       "\n",
       "[6919 rows x 10 columns]"
      ]
     },
     "execution_count": 4,
     "metadata": {},
     "output_type": "execute_result"
    }
   ],
   "source": [
    "df = pd.read_csv('MAL_complete10.csv',index_col='Title')\n",
    "df"
   ]
  },
  {
   "cell_type": "code",
   "execution_count": 5,
   "metadata": {},
   "outputs": [
    {
     "data": {
      "text/html": [
       "<div>\n",
       "<style scoped>\n",
       "    .dataframe tbody tr th:only-of-type {\n",
       "        vertical-align: middle;\n",
       "    }\n",
       "\n",
       "    .dataframe tbody tr th {\n",
       "        vertical-align: top;\n",
       "    }\n",
       "\n",
       "    .dataframe thead th {\n",
       "        text-align: right;\n",
       "    }\n",
       "</style>\n",
       "<table border=\"1\" class=\"dataframe\">\n",
       "  <thead>\n",
       "    <tr style=\"text-align: right;\">\n",
       "      <th></th>\n",
       "      <th>Rank</th>\n",
       "      <th>Score</th>\n",
       "      <th>Episodes</th>\n",
       "      <th>Members_Votes</th>\n",
       "      <th>Type</th>\n",
       "      <th>Premiered</th>\n",
       "      <th>Rating</th>\n",
       "      <th>Source</th>\n",
       "      <th>Studio</th>\n",
       "      <th>Top</th>\n",
       "    </tr>\n",
       "  </thead>\n",
       "  <tbody>\n",
       "    <tr>\n",
       "      <th>count</th>\n",
       "      <td>6919.000000</td>\n",
       "      <td>6919.000000</td>\n",
       "      <td>6919.000000</td>\n",
       "      <td>6.919000e+03</td>\n",
       "      <td>6919.000000</td>\n",
       "      <td>6919.000000</td>\n",
       "      <td>6919.000000</td>\n",
       "      <td>6919.000000</td>\n",
       "      <td>6919.000000</td>\n",
       "      <td>6919.000000</td>\n",
       "    </tr>\n",
       "    <tr>\n",
       "      <th>mean</th>\n",
       "      <td>4588.760515</td>\n",
       "      <td>6.890601</td>\n",
       "      <td>46.017488</td>\n",
       "      <td>9.804109e+04</td>\n",
       "      <td>1.319266</td>\n",
       "      <td>2005.262466</td>\n",
       "      <td>1.956352</td>\n",
       "      <td>5.394566</td>\n",
       "      <td>295.656020</td>\n",
       "      <td>0.187599</td>\n",
       "    </tr>\n",
       "    <tr>\n",
       "      <th>std</th>\n",
       "      <td>2866.289168</td>\n",
       "      <td>0.707392</td>\n",
       "      <td>78.190135</td>\n",
       "      <td>2.358502e+05</td>\n",
       "      <td>0.829994</td>\n",
       "      <td>12.637377</td>\n",
       "      <td>0.566842</td>\n",
       "      <td>1.803310</td>\n",
       "      <td>89.091756</td>\n",
       "      <td>0.390420</td>\n",
       "    </tr>\n",
       "    <tr>\n",
       "      <th>min</th>\n",
       "      <td>1.000000</td>\n",
       "      <td>5.630000</td>\n",
       "      <td>1.000000</td>\n",
       "      <td>1.970000e+02</td>\n",
       "      <td>0.000000</td>\n",
       "      <td>1918.000000</td>\n",
       "      <td>0.000000</td>\n",
       "      <td>0.000000</td>\n",
       "      <td>0.000000</td>\n",
       "      <td>0.000000</td>\n",
       "    </tr>\n",
       "    <tr>\n",
       "      <th>25%</th>\n",
       "      <td>2071.500000</td>\n",
       "      <td>6.330000</td>\n",
       "      <td>1.000000</td>\n",
       "      <td>3.115000e+03</td>\n",
       "      <td>1.000000</td>\n",
       "      <td>1998.000000</td>\n",
       "      <td>2.000000</td>\n",
       "      <td>5.000000</td>\n",
       "      <td>307.000000</td>\n",
       "      <td>0.000000</td>\n",
       "    </tr>\n",
       "    <tr>\n",
       "      <th>50%</th>\n",
       "      <td>4397.000000</td>\n",
       "      <td>6.850000</td>\n",
       "      <td>50.000000</td>\n",
       "      <td>1.642700e+04</td>\n",
       "      <td>2.000000</td>\n",
       "      <td>2008.000000</td>\n",
       "      <td>2.000000</td>\n",
       "      <td>5.000000</td>\n",
       "      <td>340.000000</td>\n",
       "      <td>0.000000</td>\n",
       "    </tr>\n",
       "    <tr>\n",
       "      <th>75%</th>\n",
       "      <td>7010.500000</td>\n",
       "      <td>7.380000</td>\n",
       "      <td>50.000000</td>\n",
       "      <td>8.134500e+04</td>\n",
       "      <td>2.000000</td>\n",
       "      <td>2015.000000</td>\n",
       "      <td>2.000000</td>\n",
       "      <td>5.000000</td>\n",
       "      <td>340.000000</td>\n",
       "      <td>0.000000</td>\n",
       "    </tr>\n",
       "    <tr>\n",
       "      <th>max</th>\n",
       "      <td>9996.000000</td>\n",
       "      <td>9.150000</td>\n",
       "      <td>1001.000000</td>\n",
       "      <td>3.208380e+06</td>\n",
       "      <td>2.000000</td>\n",
       "      <td>2021.000000</td>\n",
       "      <td>4.000000</td>\n",
       "      <td>14.000000</td>\n",
       "      <td>378.000000</td>\n",
       "      <td>1.000000</td>\n",
       "    </tr>\n",
       "  </tbody>\n",
       "</table>\n",
       "</div>"
      ],
      "text/plain": [
       "              Rank        Score     Episodes  Members_Votes         Type  \\\n",
       "count  6919.000000  6919.000000  6919.000000   6.919000e+03  6919.000000   \n",
       "mean   4588.760515     6.890601    46.017488   9.804109e+04     1.319266   \n",
       "std    2866.289168     0.707392    78.190135   2.358502e+05     0.829994   \n",
       "min       1.000000     5.630000     1.000000   1.970000e+02     0.000000   \n",
       "25%    2071.500000     6.330000     1.000000   3.115000e+03     1.000000   \n",
       "50%    4397.000000     6.850000    50.000000   1.642700e+04     2.000000   \n",
       "75%    7010.500000     7.380000    50.000000   8.134500e+04     2.000000   \n",
       "max    9996.000000     9.150000  1001.000000   3.208380e+06     2.000000   \n",
       "\n",
       "         Premiered       Rating       Source       Studio          Top  \n",
       "count  6919.000000  6919.000000  6919.000000  6919.000000  6919.000000  \n",
       "mean   2005.262466     1.956352     5.394566   295.656020     0.187599  \n",
       "std      12.637377     0.566842     1.803310    89.091756     0.390420  \n",
       "min    1918.000000     0.000000     0.000000     0.000000     0.000000  \n",
       "25%    1998.000000     2.000000     5.000000   307.000000     0.000000  \n",
       "50%    2008.000000     2.000000     5.000000   340.000000     0.000000  \n",
       "75%    2015.000000     2.000000     5.000000   340.000000     0.000000  \n",
       "max    2021.000000     4.000000    14.000000   378.000000     1.000000  "
      ]
     },
     "execution_count": 5,
     "metadata": {},
     "output_type": "execute_result"
    }
   ],
   "source": [
    "df.describe()"
   ]
  },
  {
   "cell_type": "code",
   "execution_count": 6,
   "metadata": {},
   "outputs": [
    {
     "name": "stdout",
     "output_type": "stream",
     "text": [
      "<class 'pandas.core.frame.DataFrame'>\n",
      "Index: 6919 entries, Fullmetal Alchemist: Brotherhood to Idol Project\n",
      "Data columns (total 10 columns):\n",
      " #   Column         Non-Null Count  Dtype  \n",
      "---  ------         --------------  -----  \n",
      " 0   Rank           6919 non-null   int64  \n",
      " 1   Score          6919 non-null   float64\n",
      " 2   Episodes       6919 non-null   int64  \n",
      " 3   Members_Votes  6919 non-null   int64  \n",
      " 4   Type           6919 non-null   int64  \n",
      " 5   Premiered      6919 non-null   int64  \n",
      " 6   Rating         6919 non-null   int64  \n",
      " 7   Source         6919 non-null   int64  \n",
      " 8   Studio         6919 non-null   int64  \n",
      " 9   Top            6919 non-null   int64  \n",
      "dtypes: float64(1), int64(9)\n",
      "memory usage: 594.6+ KB\n"
     ]
    }
   ],
   "source": [
    "df.info()"
   ]
  },
  {
   "cell_type": "code",
   "execution_count": 7,
   "metadata": {},
   "outputs": [],
   "source": [
    "un = pd.unique(df['Type'])\n"
   ]
  },
  {
   "cell_type": "code",
   "execution_count": 8,
   "metadata": {},
   "outputs": [],
   "source": [
    "def split_to_train_and_test(dataset, label_column, test_ratio, rand_state):\n",
    "    X = dataset.drop(columns=label_column)\n",
    "    y = dataset[label_column].copy()\n",
    "    X_train, X_test, y_train, y_test = train_test_split(X,y,test_size=test_ratio,random_state=rand_state)\n",
    "    return X_train, X_test, y_train, y_test"
   ]
  },
  {
   "cell_type": "code",
   "execution_count": 9,
   "metadata": {},
   "outputs": [],
   "source": [
    "def train_2nd_model(X_train, y_train):\n",
    "    trained_model = LogisticRegression().fit(X_train, y_train)\n",
    "    predicted = trained_model.score(X_train,y_train)\n",
    "    return trained_model, predicted"
   ]
  },
  {
   "cell_type": "code",
   "execution_count": 10,
   "metadata": {},
   "outputs": [],
   "source": [
    "def predict_2nd(trained_2nd_model, X_test):\n",
    "    predicted_vals = trained_2nd_model.predict(X_test)\n",
    "    return predicted_vals\n"
   ]
  },
  {
   "cell_type": "code",
   "execution_count": 11,
   "metadata": {},
   "outputs": [],
   "source": [
    "def evaluate_performance_2nd(y_test,y_predicted):\n",
    "    evaluate_value = f1_score(y_true=y_test,y_pred=y_predicted)\n",
    "    acc_value = accuracy_score(y_test,y_predicted)\n",
    "    return evaluate_value, acc_value"
   ]
  },
  {
   "cell_type": "code",
   "execution_count": 12,
   "metadata": {},
   "outputs": [],
   "source": [
    "def train_1st_model(X_train, y_train):\n",
    "    trained_model = LinearRegression().fit(X_train,y_train)\n",
    "    predicted = trained_model.score(X_train,y_train)\n",
    "    return trained_model, predicted"
   ]
  },
  {
   "cell_type": "code",
   "execution_count": 13,
   "metadata": {},
   "outputs": [],
   "source": [
    "def predict_1st(trained_1st_model, X_test):\n",
    "    predicted_vals = trained_1st_model.predict(X_test)\n",
    "    \n",
    "    return predicted_vals"
   ]
  },
  {
   "cell_type": "code",
   "execution_count": 14,
   "metadata": {},
   "outputs": [],
   "source": [
    "def evaluate_performance_1st(y_test,y_predicted):\n",
    "    evaluate_value = r2_score(y_true=y_test,y_pred=y_predicted)\n",
    "    return evaluate_value"
   ]
  },
  {
   "cell_type": "code",
   "execution_count": null,
   "metadata": {},
   "outputs": [],
   "source": [
    "\n",
    "    "
   ]
  },
  {
   "cell_type": "code",
   "execution_count": null,
   "metadata": {},
   "outputs": [],
   "source": []
  },
  {
   "cell_type": "code",
   "execution_count": 15,
   "metadata": {},
   "outputs": [
    {
     "name": "stdout",
     "output_type": "stream",
     "text": [
      "                                  Rank  Score  Episodes  Members_Votes  Type  \\\n",
      "Title                                                                          \n",
      "Slam Dunk                           95   8.53       500         240016     2   \n",
      "Watashi ni Tenshi ga Maiorita!    2335   7.32        50         166103     2   \n",
      "Go-Q-Choji Ikkiman                7120   6.31        50            768     2   \n",
      "Druaga no Tou: The Sword of Uruk  2777   7.22        50          69744     2   \n",
      "Futari wa Precure: Splash☆Star    3066   7.16        50          11209     2   \n",
      "...                                ...    ...       ...            ...   ...   \n",
      "Aoki Densetsu Shoot! (Movie)      4867   6.75         1           2191     0   \n",
      "Island                            7014   6.33        50         116957     2   \n",
      "Shin Mitsubachi Maya no Bouken    7071   6.32       100           2850     2   \n",
      "12-sai.                           7346   6.26        50          12697     1   \n",
      "Ranma ½ OVA                        981   7.74        50          28733     1   \n",
      "\n",
      "                                  Premiered  Rating  Source  Studio  \n",
      "Title                                                                \n",
      "Slam Dunk                              1993       2       5     340  \n",
      "Watashi ni Tenshi ga Maiorita!         2019       2       5     340  \n",
      "Go-Q-Choji Ikkiman                     1986       2      14      59  \n",
      "Druaga no Tou: The Sword of Uruk       2009       2       5     340  \n",
      "Futari wa Precure: Splash☆Star         2006       2       5     340  \n",
      "...                                     ...     ...     ...     ...  \n",
      "Aoki Densetsu Shoot! (Movie)           1994       2       5     340  \n",
      "Island                                 2018       2       5     247  \n",
      "Shin Mitsubachi Maya no Bouken         1982       2       9     208  \n",
      "12-sai.                                2014       2       0     237  \n",
      "Ranma ½ OVA                            1993       2       5     340  \n",
      "\n",
      "[5189 rows x 9 columns] and                                                  Rank  Score  Episodes  \\\n",
      "Title                                                                    \n",
      "Nekomonogatari: Kuro                              614   7.95        50   \n",
      "Chiisana Penguin Lolo no Bouken                  2194   7.35        50   \n",
      "Irregular Hunter X: The Day of Sigma             2981   7.18         1   \n",
      "Captain Tsubasa: Europe Daikessen                4326   6.87         1   \n",
      "Kenzen Robo Daimidaler                           7932   6.14        50   \n",
      "...                                               ...    ...       ...   \n",
      "Atom: The Beginning                              4495   6.83        50   \n",
      "Pugyuru                                          9675   5.72        50   \n",
      "Mushibugyou                                      2321   7.32        50   \n",
      "Kero Kero Keroppi no Christmas Eve no Okurimono  9020   5.90         1   \n",
      "Kuiba II: Dazhan Yuan Yang Jie                   6643   6.41         1   \n",
      "\n",
      "                                                 Members_Votes  Type  \\\n",
      "Title                                                                  \n",
      "Nekomonogatari: Kuro                                    483565     2   \n",
      "Chiisana Penguin Lolo no Bouken                           2730     1   \n",
      "Irregular Hunter X: The Day of Sigma                     10719     1   \n",
      "Captain Tsubasa: Europe Daikessen                         5373     0   \n",
      "Kenzen Robo Daimidaler                                   62380     2   \n",
      "...                                                        ...   ...   \n",
      "Atom: The Beginning                                      28562     2   \n",
      "Pugyuru                                                   4244     2   \n",
      "Mushibugyou                                              81353     2   \n",
      "Kero Kero Keroppi no Christmas Eve no Okurimono            369     1   \n",
      "Kuiba II: Dazhan Yuan Yang Jie                             492     0   \n",
      "\n",
      "                                                 Premiered  Rating  Source  \\\n",
      "Title                                                                        \n",
      "Nekomonogatari: Kuro                                  2012       2       5   \n",
      "Chiisana Penguin Lolo no Bouken                       1986       2       5   \n",
      "Irregular Hunter X: The Day of Sigma                  2005       2       5   \n",
      "Captain Tsubasa: Europe Daikessen                     1985       2       5   \n",
      "Kenzen Robo Daimidaler                                2014       2      10   \n",
      "...                                                    ...     ...     ...   \n",
      "Atom: The Beginning                                   2017       2       5   \n",
      "Pugyuru                                               2004       2       5   \n",
      "Mushibugyou                                           2013       2       5   \n",
      "Kero Kero Keroppi no Christmas Eve no Okurimono       1992       2       3   \n",
      "Kuiba II: Dazhan Yuan Yang Jie                        2013       2       5   \n",
      "\n",
      "                                                 Studio  \n",
      "Title                                                    \n",
      "Nekomonogatari: Kuro                                340  \n",
      "Chiisana Penguin Lolo no Bouken                     340  \n",
      "Irregular Hunter X: The Day of Sigma                340  \n",
      "Captain Tsubasa: Europe Daikessen                   340  \n",
      "Kenzen Robo Daimidaler                              128  \n",
      "...                                                 ...  \n",
      "Atom: The Beginning                                 340  \n",
      "Pugyuru                                             178  \n",
      "Mushibugyou                                         340  \n",
      "Kero Kero Keroppi no Christmas Eve no Okurimono     132  \n",
      "Kuiba II: Dazhan Yuan Yang Jie                      299  \n",
      "\n",
      "[1730 rows x 9 columns]\n",
      "\n",
      "Title\n",
      "Slam Dunk                           1\n",
      "Watashi ni Tenshi ga Maiorita!      1\n",
      "Go-Q-Choji Ikkiman                  0\n",
      "Druaga no Tou: The Sword of Uruk    0\n",
      "Futari wa Precure: Splash☆Star      0\n",
      "                                   ..\n",
      "Aoki Densetsu Shoot! (Movie)        0\n",
      "Island                              0\n",
      "Shin Mitsubachi Maya no Bouken      0\n",
      "12-sai.                             0\n",
      "Ranma ½ OVA                         0\n",
      "Name: Top, Length: 5189, dtype: int64 and Title\n",
      "Nekomonogatari: Kuro                               1\n",
      "Chiisana Penguin Lolo no Bouken                    0\n",
      "Irregular Hunter X: The Day of Sigma               0\n",
      "Captain Tsubasa: Europe Daikessen                  0\n",
      "Kenzen Robo Daimidaler                             0\n",
      "                                                  ..\n",
      "Atom: The Beginning                                0\n",
      "Pugyuru                                            0\n",
      "Mushibugyou                                        0\n",
      "Kero Kero Keroppi no Christmas Eve no Okurimono    0\n",
      "Kuiba II: Dazhan Yuan Yang Jie                     0\n",
      "Name: Top, Length: 1730, dtype: int64\n",
      "\n",
      "5189\n",
      "1730\n",
      "5189\n",
      "1730\n"
     ]
    }
   ],
   "source": [
    "X_train, X_test, y_train, y_test = split_to_train_and_test(df,'Top',test_ratio,rand_state)\n",
    "\n",
    "print(f\"{X_train} and {X_test}\\n\")\n",
    "print(f\"{y_train} and {y_test}\\n\")\n",
    "\n",
    "print(f\"{len(X_train)}\")\n",
    "print(f\"{len(X_test)}\")\n",
    "print(f\"{len(y_train)}\")\n",
    "print(f\"{len(y_test)}\")"
   ]
  },
  {
   "cell_type": "code",
   "execution_count": 16,
   "metadata": {},
   "outputs": [],
   "source": [
    "def get_classifier_obj(classifier_name, params):\n",
    "    if params is None:\n",
    "        if classifier_name == \"KNN\":\n",
    "            return KNeighborsClassifier()\n",
    "        elif classifier_name == \"decision_tree\":\n",
    "            return DecisionTreeClassifier()\n",
    "        elif classifier_name == \"random_forest\":\n",
    "            return RandomForestClassifier()\n",
    "        else:\n",
    "            if classifier_name == \"svm\":\n",
    "                return svm.SVC()\n",
    "            else:\n",
    "                return GaussianNB()\n",
    "    else:        \n",
    "        if classifier_name == \"KNN\":\n",
    "            return KNeighborsClassifier(n_neighbors=params['n_neighbors'])\n",
    "        elif classifier_name == \"decision_tree\":\n",
    "            return DecisionTreeClassifier(max_depth=params['max_depth'],min_samples_split=params['min_samples_split'])\n",
    "        elif classifier_name == \"random_forest\":\n",
    "            return RandomForestClassifier(n_estimators=params['n_estimators'])\n",
    "        else:\n",
    "            if classifier_name == \"svm\":\n",
    "                return svm.SVC(parmas)\n",
    "            else:\n",
    "                return GaussianNB()"
   ]
  },
  {
   "cell_type": "code",
   "execution_count": null,
   "metadata": {},
   "outputs": [],
   "source": []
  },
  {
   "cell_type": "code",
   "execution_count": 17,
   "metadata": {},
   "outputs": [],
   "source": [
    "### First Impression of Diffrent Algo ###\n",
    "KNN = get_classifier_obj(\"KNN\",None)\n",
    "DecisionTree = get_classifier_obj(\"decision_tree\",None)\n",
    "RandomForest = get_classifier_obj(\"random_forest\",None)\n",
    "SVM = get_classifier_obj(\"svm\",None)\n",
    "GNB = get_classifier_obj(\"GNB\",None)\n"
   ]
  },
  {
   "cell_type": "code",
   "execution_count": 18,
   "metadata": {},
   "outputs": [
    {
     "name": "stdout",
     "output_type": "stream",
     "text": [
      "KNN : KNeighborsClassifier()\n",
      "DecisionTree : DecisionTreeClassifier()\n",
      "RandomForest : RandomForestClassifier()\n",
      "SVM : SVC()\n",
      "GNB : GaussianNB()\n"
     ]
    }
   ],
   "source": [
    "print(f\"KNN : {KNN}\")\n",
    "print(f\"DecisionTree : {DecisionTree}\")\n",
    "print(f\"RandomForest : {RandomForest}\")\n",
    "print(f\"SVM : {SVM}\")\n",
    "print(f\"GNB : {GNB}\")\n",
    "\n",
    "\n"
   ]
  },
  {
   "cell_type": "code",
   "execution_count": null,
   "metadata": {},
   "outputs": [],
   "source": []
  },
  {
   "cell_type": "code",
   "execution_count": null,
   "metadata": {},
   "outputs": [],
   "source": []
  },
  {
   "cell_type": "code",
   "execution_count": null,
   "metadata": {},
   "outputs": [],
   "source": []
  },
  {
   "cell_type": "code",
   "execution_count": 43,
   "metadata": {},
   "outputs": [
    {
     "name": "stdout",
     "output_type": "stream",
     "text": [
      "Predicted Values:0.9618423588359992\n",
      "f1_score:0.8992248062015504\n",
      "acc score:0.9624277456647399\n"
     ]
    }
   ],
   "source": [
    "\n",
    "### LogesticRegression ###\n",
    "train_model_LGR, predicted_LGR = train_2nd_model(X_train,y_train)\n",
    "predicted_vals = predict_2nd(train_model_LGR,X_test)\n",
    "evaluate_value, acc_value = evaluate_performance_2nd(y_test,predicted_vals)\n",
    "print(f\"Predicted Values:{predicted_LGR}\\nf1_score:{evaluate_value}\\nacc score:{acc_value}\")\n",
    "\n",
    "\n"
   ]
  },
  {
   "cell_type": "code",
   "execution_count": 20,
   "metadata": {},
   "outputs": [
    {
     "name": "stdout",
     "output_type": "stream",
     "text": [
      "predicted LR:0.49636669647858656\n",
      "f1_score:0.5106905942287341\n"
     ]
    }
   ],
   "source": [
    "\n",
    "### LinearRegression ###\n",
    "trained_model_LR,predicted_LR = train_1st_model(X_train, y_train)\n",
    "predicted_vals_LR = predict_1st(trained_model_LR, X_test)\n",
    "evaluate_value_LR = evaluate_performance_1st(y_test,predicted_vals_LR)\n",
    "print(f\"predicted LR:{predicted_LR}\\nf1_score:{evaluate_value_LR}\")\n"
   ]
  },
  {
   "cell_type": "code",
   "execution_count": 21,
   "metadata": {},
   "outputs": [],
   "source": [
    "def find_best_decision_tree_params(X_train, y_train):     \n",
    "    parameters = {'max_depth': [4,6,8,10],'min_samples_split': [1000,1500,2000] }\n",
    "    dt = DecisionTreeClassifier()\n",
    "    clf = GridSearchCV(dt, parameters,scoring=make_scorer(metrics.f1_score))\n",
    "    clf.fit(X_train, y_train)\n",
    "    best_max_depth = clf.best_params_['max_depth']\n",
    "    best_min_samples_split = clf.best_params_['min_samples_split']\n",
    "    best_f1_val = clf.best_score_\n",
    "    \n",
    "    clf2 = GridSearchCV(dt,parameters,scoring=make_scorer(metrics.accuracy_score))\n",
    "    clf2.fit(X_train,y_train)\n",
    "    best_acc_score = clf.best_score_\n",
    "    \n",
    "    return best_max_depth, best_min_samples_split, best_f1_val,best_acc_score"
   ]
  },
  {
   "cell_type": "code",
   "execution_count": 22,
   "metadata": {},
   "outputs": [
    {
     "name": "stdout",
     "output_type": "stream",
     "text": [
      "Predicted Values:\n",
      "{'max_depth': 4, 'min_samples_split': 1000, 'best_f1_val': 0.9109323767064048, 'best_acc_score': 0.9109323767064048}\n"
     ]
    }
   ],
   "source": [
    "### Decision Tree Predictions ###\n",
    "best_max_depth, best_min_samples_split, best_f1_val, best_acc_score = find_best_decision_tree_params(X_train, y_train)\n",
    "best_parmas_decision_tree = {'max_depth':best_max_depth,'min_samples_split':best_min_samples_split,\n",
    "                            'best_f1_val':best_f1_val,'best_acc_score':best_acc_score}\n",
    "print(f\"Predicted Values:\\n{best_parmas_decision_tree}\")"
   ]
  },
  {
   "cell_type": "code",
   "execution_count": null,
   "metadata": {},
   "outputs": [],
   "source": []
  },
  {
   "cell_type": "code",
   "execution_count": 23,
   "metadata": {},
   "outputs": [],
   "source": [
    "def find_best_k_for_KNN(X_train, y_train):\n",
    "    parameters = {'n_neighbors':[i for i in range(23,61,2)]}\n",
    "    knn = KNeighborsClassifier()\n",
    "    clf = GridSearchCV(knn, parameters,scoring=make_scorer(metrics.f1_score))\n",
    "    clf.fit(X_train, y_train)\n",
    "    best_K = clf.best_params_['n_neighbors']\n",
    "    best_f1_val = clf.best_score_\n",
    "    \n",
    "    clf2 = GridSearchCV(knn,parameters,scoring=make_scorer(metrics.accuracy_score))\n",
    "    clf2.fit(X_train,y_train)\n",
    "    best_acc_score = clf.best_score_\n",
    "    \n",
    "    return best_K, best_f1_val, best_acc_score"
   ]
  },
  {
   "cell_type": "code",
   "execution_count": 41,
   "metadata": {},
   "outputs": [
    {
     "name": "stdout",
     "output_type": "stream",
     "text": [
      "Predicted Values:\n",
      "n_neighbors:23\n",
      "best f1_score:0.9203359842456231\n",
      "acc score:0.9203359842456231\n"
     ]
    }
   ],
   "source": [
    "\n",
    "### KNN Predictions ###\n",
    "best_K, best_f1_val, best_acc_score = find_best_k_for_KNN(X_train,y_train)\n",
    "print(f\"Predicted Values:\\nn_neighbors:{best_K}\\nbest f1_score:{best_f1_val}\\nacc score:{best_acc_score}\")"
   ]
  },
  {
   "cell_type": "code",
   "execution_count": 25,
   "metadata": {},
   "outputs": [],
   "source": [
    "def find_best_random_forest_num_estimators(X_train, y_train):\n",
    "    params = {'n_estimators':[150,99,116]}\n",
    "    rfn = RandomForestClassifier()\n",
    "    clf = GridSearchCV(rfn, param_grid=params,scoring=make_scorer(metrics.f1_score))\n",
    "    clf.fit(X_train, y_train)\n",
    "    best_num_estimators = clf.best_params_['n_estimators']\n",
    "    best_f1_val = clf.best_score_\n",
    "    return best_num_estimators, best_f1_val"
   ]
  },
  {
   "cell_type": "code",
   "execution_count": 26,
   "metadata": {},
   "outputs": [
    {
     "name": "stdout",
     "output_type": "stream",
     "text": [
      "Predicted Values:\n",
      "116 and best f1 0.9994805194805195\n"
     ]
    }
   ],
   "source": [
    "### Rand Forrest Predictions ###\n",
    "best_num_estimators, best_f1_val_RF = find_best_random_forest_num_estimators(X_train,y_train)\n",
    "print(f\"Predicted Values:\\n{best_num_estimators} and best f1 {best_f1_val_RF}\")"
   ]
  },
  {
   "cell_type": "code",
   "execution_count": null,
   "metadata": {},
   "outputs": [],
   "source": []
  },
  {
   "cell_type": "code",
   "execution_count": 27,
   "metadata": {},
   "outputs": [],
   "source": [
    "best_params_KNN = {'n_neighbors':best_K}"
   ]
  },
  {
   "cell_type": "code",
   "execution_count": 28,
   "metadata": {},
   "outputs": [],
   "source": [
    "KNN = get_classifier_obj(\"KNN\",best_params_KNN)\n",
    "DecisionTree = DecisionTreeClassifier(max_depth=8,min_samples_split=2000)\n"
   ]
  },
  {
   "cell_type": "code",
   "execution_count": 29,
   "metadata": {},
   "outputs": [
    {
     "name": "stdout",
     "output_type": "stream",
     "text": [
      "f1_socre:0.9280677009873061\n",
      "acc score:0.9705202312138729\n"
     ]
    }
   ],
   "source": [
    "### KNN Fit by best Params  ###\n",
    "KNN.fit(X_train,y_train)\n",
    "pred_KNN = KNN.predict(X_test)\n",
    "acc = accuracy_score(y_test,pred_KNN)\n",
    "f1_score_KNN = (f1_score(y_test,pred_KNN))\n",
    "print(f\"f1_socre:{f1_score_KNN}\\nacc score:{acc}\")\n"
   ]
  },
  {
   "cell_type": "code",
   "execution_count": 30,
   "metadata": {},
   "outputs": [
    {
     "name": "stdout",
     "output_type": "stream",
     "text": [
      "f1 score:0.9058663028649385\n",
      "acc score:0.9601156069364162\n"
     ]
    }
   ],
   "source": [
    "### DescionTree Fit by Best Params ###\n",
    "DecisionTree.fit(X_train,y_train)\n",
    "pred_DecisionTree = DecisionTree.predict(X_test)\n",
    "acc_DT = accuracy_score(y_test,pred_DecisionTree)\n",
    "f1_score_DecisionTree = f1_score(y_test,pred_DecisionTree)\n",
    "print(f\"f1 score:{f1_score_DecisionTree}\\nacc score:{acc_DT}\")"
   ]
  },
  {
   "cell_type": "code",
   "execution_count": null,
   "metadata": {},
   "outputs": [],
   "source": []
  },
  {
   "cell_type": "code",
   "execution_count": null,
   "metadata": {},
   "outputs": [],
   "source": []
  },
  {
   "cell_type": "code",
   "execution_count": 31,
   "metadata": {},
   "outputs": [],
   "source": [
    "def calc_evaluation_val(eval_metric, y_test, y_predicted):\n",
    "    if eval_metric == \"accuracy\":\n",
    "        evaluation_val = accuracy_score(y_test, y_predicted)\n",
    "    elif eval_metric == \"precision\":\n",
    "        evaluation_val = precision_score(y_test, y_predicted)\n",
    "    elif eval_metric == \"recall\":\n",
    "        evaluation_val = recall_score(y_test,y_predicted)\n",
    "    elif eval_metric == \"f1\":\n",
    "        evaluation_val = f1_score(y_test,y_predicted)\n",
    "    else:\n",
    "        evaluation_val = confusion_matrix(y_test, y_predicted)\n",
    "    return evaluation_val"
   ]
  },
  {
   "cell_type": "code",
   "execution_count": null,
   "metadata": {},
   "outputs": [],
   "source": []
  },
  {
   "cell_type": "code",
   "execution_count": 32,
   "metadata": {},
   "outputs": [],
   "source": [
    "### KMeans ###"
   ]
  },
  {
   "cell_type": "code",
   "execution_count": 33,
   "metadata": {},
   "outputs": [],
   "source": [
    "def scale_dataset(dataset):\n",
    "    scale = StandardScaler()\n",
    "    dataset_scaled = scale.fit_transform(dataset)\n",
    "    \n",
    "    return dataset_scaled"
   ]
  },
  {
   "cell_type": "code",
   "execution_count": 34,
   "metadata": {},
   "outputs": [],
   "source": [
    "def perform_k_means(dataset, num_clusters, init_val, n_init_val, rand_state):\n",
    "    model = KMeans(num_clusters, n_init=n_init_val, init=init_val,random_state=rand_state)\n",
    "    predicted_vals = model.fit_predict(dataset)\n",
    "    return model, predicted_vals"
   ]
  },
  {
   "cell_type": "code",
   "execution_count": 35,
   "metadata": {},
   "outputs": [],
   "source": [
    "def perform_hierarchical_clustering(dataset, num_clusters, linkage_val):\n",
    "    model = AgglomerativeClustering(n_clusters=num_clusters,linkage=linkage_val)\n",
    "    predicted_vals = model.fit_predict(dataset)\n",
    "    return model, predicted_vals"
   ]
  },
  {
   "cell_type": "code",
   "execution_count": 36,
   "metadata": {},
   "outputs": [],
   "source": [
    "def get_best_init_params_for_k_means(dataset, num_clusters, init_options, n_init_options, rand_state):\n",
    "    best_scores = []\n",
    "    best_inits = []\n",
    "    best_n_inits = []\n",
    "    \n",
    "    for i in init_options:\n",
    "        for j in n_init_options:\n",
    "            model, val_pred = perform_k_means(dataset,num_clusters,i,j,rand_state)\n",
    "            best_scores.append(model.inertia_)\n",
    "            best_inits.append(i)\n",
    "            best_n_inits.append(j)\n",
    "            \n",
    "    best_score = min(best_scores)\n",
    "    best_score_index = best_scores.index(best_score)\n",
    "    best_init_val = best_inits[best_score_index]\n",
    "    best_n_init_val = best_n_inits[best_score_index]\n",
    "    \n",
    "    return best_score, best_init_val, best_n_init_val"
   ]
  },
  {
   "cell_type": "code",
   "execution_count": 37,
   "metadata": {},
   "outputs": [],
   "source": [
    "def compare_number_of_clusters(dataset, num_cluster_options, init_val, n_init_val, rand_state):\n",
    "    lst_scores = []\n",
    "    for i in num_cluster_options:\n",
    "        model, val_pred = perform_k_means(dataset,i,init_val,n_init_val,rand_state)\n",
    "        lst_scores.append(model.inertia_)       \n",
    "    return lst_scores"
   ]
  },
  {
   "cell_type": "code",
   "execution_count": 38,
   "metadata": {},
   "outputs": [],
   "source": [
    "def get_best_num_of_clusters_for_k_means(dataset, num_cluster_options, init_val, n_init_val, rand_state):\n",
    "    scores = []\n",
    "    clusters = []\n",
    "    \n",
    "    for i in num_cluster_options:\n",
    "        model, pred_val = perform_k_means(dataset,i,init_val,n_init_val,rand_state)\n",
    "        silhouette_avg = silhouette_score(dataset, pred_val)\n",
    "        print(\"For n_clusters =\", i,\n",
    "                \"The silhouette_score is :\", silhouette_avg)\n",
    "        scores.append(silhouette_avg)\n",
    "        clusters.append(i)\n",
    "\n",
    "    best_score = max(scores)\n",
    "    bs_index = scores.index(best_score)\n",
    "    num_clusters = clusters[bs_index]\n",
    "    \n",
    "    print(best_score)\n",
    "    print(num_clusters)\n",
    "    \n",
    "    \n",
    "    \n",
    "    return best_score, num_clusters"
   ]
  },
  {
   "cell_type": "code",
   "execution_count": 39,
   "metadata": {},
   "outputs": [],
   "source": [
    "scaled_df = scale_dataset(df)"
   ]
  },
  {
   "cell_type": "code",
   "execution_count": 44,
   "metadata": {},
   "outputs": [
    {
     "name": "stdout",
     "output_type": "stream",
     "text": [
      "SSE Score:43919.58517820239\n",
      "best_init:k-means++\n",
      "best n_init:160\n"
     ]
    }
   ],
   "source": [
    "num_clusters = 3\n",
    "init_options = ['random', 'k-means++']\n",
    "n_init_options = [1,5,10,20,60,160]\n",
    "\n",
    "best_scoreKM, best_init_valKM, best_n_init_valKM = get_best_init_params_for_k_means(scaled_df,num_clusters,init_options\n",
    "                                                                                    ,n_init_options,rand_state)\n",
    "print(f\"SSE Score:{best_scoreKM}\\nbest_init:{best_init_valKM}\\nbest n_init:{best_n_init_valKM}\")\n",
    "\n"
   ]
  },
  {
   "cell_type": "code",
   "execution_count": 45,
   "metadata": {},
   "outputs": [
    {
     "name": "stdout",
     "output_type": "stream",
     "text": [
      "For n_clusters = 3 The silhouette_score is : 0.2927202960716354\n",
      "For n_clusters = 4 The silhouette_score is : 0.3062837657331673\n",
      "For n_clusters = 5 The silhouette_score is : 0.3230401143014306\n",
      "For n_clusters = 6 The silhouette_score is : 0.2609498133379903\n",
      "For n_clusters = 7 The silhouette_score is : 0.2780996947002763\n",
      "For n_clusters = 8 The silhouette_score is : 0.29282803282953546\n",
      "For n_clusters = 9 The silhouette_score is : 0.29017276542971465\n",
      "For n_clusters = 10 The silhouette_score is : 0.2626841368363844\n",
      "For n_clusters = 11 The silhouette_score is : 0.26531799337639295\n",
      "For n_clusters = 12 The silhouette_score is : 0.2680683686940823\n",
      "For n_clusters = 13 The silhouette_score is : 0.2701835992741628\n",
      "For n_clusters = 14 The silhouette_score is : 0.26165261002443746\n",
      "For n_clusters = 15 The silhouette_score is : 0.27037339437890906\n",
      "0.3230401143014306\n",
      "5\n",
      "5\n"
     ]
    }
   ],
   "source": [
    "num_clusters_options = [3,4,5,6,7,8,9,10,11,12,13,14,15]\n",
    "best_score_g, num_clusters_g = get_best_num_of_clusters_for_k_means(scaled_df,num_clusters_options\n",
    "                                                                    , best_init_valKM, best_n_init_valKM,rand_state)\n",
    "print(num_clusters_g)"
   ]
  },
  {
   "cell_type": "code",
   "execution_count": 46,
   "metadata": {},
   "outputs": [
    {
     "name": "stdout",
     "output_type": "stream",
     "text": [
      "k-means++\n"
     ]
    }
   ],
   "source": [
    "print(best_init_valKM)"
   ]
  },
  {
   "cell_type": "code",
   "execution_count": 47,
   "metadata": {},
   "outputs": [
    {
     "name": "stdout",
     "output_type": "stream",
     "text": [
      "Predicted Values:KMeans(n_clusters=2, n_init=2, random_state=42)\n"
     ]
    }
   ],
   "source": [
    "model, predicted_valsKMeans = perform_k_means(scaled_df,num_clusters=5,init_val='k-means++',n_init_val=best_init_valKM\n",
    "                                              ,rand_state=42)\n",
    "print(f\"Predicted Values:{model}\")\n"
   ]
  },
  {
   "cell_type": "code",
   "execution_count": 48,
   "metadata": {},
   "outputs": [
    {
     "data": {
      "text/plain": [
       "array([[184042.81821928, 742435.46675664],\n",
       "       [110096.80880952, 816348.46487698],\n",
       "       [ 55315.62280574, 981700.82056438],\n",
       "       ...,\n",
       "       [ 53233.03791242, 979618.53107606],\n",
       "       [ 43412.74924829, 969773.42822248],\n",
       "       [ 27561.50258931, 953717.61186403]])"
      ]
     },
     "execution_count": 48,
     "metadata": {},
     "output_type": "execute_result"
    }
   ],
   "source": [
    "model.fit_transform(X_train,y_train)"
   ]
  },
  {
   "cell_type": "code",
   "execution_count": 49,
   "metadata": {},
   "outputs": [
    {
     "name": "stdout",
     "output_type": "stream",
     "text": [
      "[0 0 0 ... 0 0 0]\n"
     ]
    }
   ],
   "source": [
    "y_pred = model.predict(X_test)\n",
    "print(y_pred)\n"
   ]
  },
  {
   "cell_type": "code",
   "execution_count": 53,
   "metadata": {},
   "outputs": [],
   "source": [
    "shiloutte_avg = silhouette_score(df, predicted_valsKMeans)"
   ]
  },
  {
   "cell_type": "code",
   "execution_count": 51,
   "metadata": {},
   "outputs": [
    {
     "name": "stdout",
     "output_type": "stream",
     "text": [
      "-0.02526441376926772\n"
     ]
    }
   ],
   "source": [
    "print(shiloutte_avg)"
   ]
  },
  {
   "cell_type": "code",
   "execution_count": null,
   "metadata": {},
   "outputs": [],
   "source": []
  },
  {
   "cell_type": "code",
   "execution_count": null,
   "metadata": {},
   "outputs": [],
   "source": []
  }
 ],
 "metadata": {
  "kernelspec": {
   "display_name": "Python 3",
   "language": "python",
   "name": "python3"
  },
  "language_info": {
   "codemirror_mode": {
    "name": "ipython",
    "version": 3
   },
   "file_extension": ".py",
   "mimetype": "text/x-python",
   "name": "python",
   "nbconvert_exporter": "python",
   "pygments_lexer": "ipython3",
   "version": "3.8.5"
  }
 },
 "nbformat": 4,
 "nbformat_minor": 4
}
